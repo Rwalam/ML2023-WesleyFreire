{
  "nbformat": 4,
  "nbformat_minor": 0,
  "metadata": {
    "colab": {
      "provenance": []
    },
    "kernelspec": {
      "name": "python3",
      "display_name": "Python 3"
    },
    "language_info": {
      "name": "python"
    }
  },
  "cells": [
    {
      "cell_type": "code",
      "execution_count": 3,
      "metadata": {
        "id": "oNuPtA2jPv1L"
      },
      "outputs": [],
      "source": [
        "import numpy as np\n",
        "import pandas as pd\n",
        "import matplotlib.pyplot as plt\n",
        "import seaborn as sns"
      ]
    },
    {
      "cell_type": "code",
      "source": [
        "df = pd.read_csv('/content/drive/MyDrive/Colab Notebooks/ML2023-1/at5 LinearRegression/winequality-white.csv', sep=\";\")"
      ],
      "metadata": {
        "id": "WwCWLKr-SicE"
      },
      "execution_count": 4,
      "outputs": []
    },
    {
      "cell_type": "code",
      "source": [
        "df.head"
      ],
      "metadata": {
        "id": "3jG_WoIjZRsc"
      },
      "execution_count": null,
      "outputs": []
    },
    {
      "cell_type": "code",
      "source": [
        "df = df.apply(pd.to_numeric)"
      ],
      "metadata": {
        "id": "WdLsdxlYYYWR"
      },
      "execution_count": 14,
      "outputs": []
    },
    {
      "cell_type": "code",
      "source": [
        "from sklearn.model_selection import train_test_split\n",
        "X = df.drop('quality', axis = 1)\n",
        "Y = df['quality']\n",
        "X_train, X_test, y_train, y_test = train_test_split(X, Y, test_size = 0.20)\n",
        "X.head()"
      ],
      "metadata": {
        "id": "lEXXSC1fT7UN",
        "colab": {
          "base_uri": "https://localhost:8080/",
          "height": 206
        },
        "outputId": "2863e177-76c9-4596-e48b-8e13fa3c4622"
      },
      "execution_count": 29,
      "outputs": [
        {
          "output_type": "execute_result",
          "data": {
            "text/plain": [
              "   fixed acidity  volatile acidity  citric acid  residual sugar  chlorides  \\\n",
              "0            7.0              0.27         0.36            20.7      0.045   \n",
              "1            6.3              0.30         0.34             1.6      0.049   \n",
              "2            8.1              0.28         0.40             6.9      0.050   \n",
              "3            7.2              0.23         0.32             8.5      0.058   \n",
              "4            7.2              0.23         0.32             8.5      0.058   \n",
              "\n",
              "   free sulfur dioxide  total sulfur dioxide  density    pH  sulphates  \\\n",
              "0                 45.0                 170.0   1.0010  3.00       0.45   \n",
              "1                 14.0                 132.0   0.9940  3.30       0.49   \n",
              "2                 30.0                  97.0   0.9951  3.26       0.44   \n",
              "3                 47.0                 186.0   0.9956  3.19       0.40   \n",
              "4                 47.0                 186.0   0.9956  3.19       0.40   \n",
              "\n",
              "   alcohol  \n",
              "0      8.8  \n",
              "1      9.5  \n",
              "2     10.1  \n",
              "3      9.9  \n",
              "4      9.9  "
            ],
            "text/html": [
              "\n",
              "  <div id=\"df-64ca3e92-e95d-49b4-b9dc-456150c1e7a0\">\n",
              "    <div class=\"colab-df-container\">\n",
              "      <div>\n",
              "<style scoped>\n",
              "    .dataframe tbody tr th:only-of-type {\n",
              "        vertical-align: middle;\n",
              "    }\n",
              "\n",
              "    .dataframe tbody tr th {\n",
              "        vertical-align: top;\n",
              "    }\n",
              "\n",
              "    .dataframe thead th {\n",
              "        text-align: right;\n",
              "    }\n",
              "</style>\n",
              "<table border=\"1\" class=\"dataframe\">\n",
              "  <thead>\n",
              "    <tr style=\"text-align: right;\">\n",
              "      <th></th>\n",
              "      <th>fixed acidity</th>\n",
              "      <th>volatile acidity</th>\n",
              "      <th>citric acid</th>\n",
              "      <th>residual sugar</th>\n",
              "      <th>chlorides</th>\n",
              "      <th>free sulfur dioxide</th>\n",
              "      <th>total sulfur dioxide</th>\n",
              "      <th>density</th>\n",
              "      <th>pH</th>\n",
              "      <th>sulphates</th>\n",
              "      <th>alcohol</th>\n",
              "    </tr>\n",
              "  </thead>\n",
              "  <tbody>\n",
              "    <tr>\n",
              "      <th>0</th>\n",
              "      <td>7.0</td>\n",
              "      <td>0.27</td>\n",
              "      <td>0.36</td>\n",
              "      <td>20.7</td>\n",
              "      <td>0.045</td>\n",
              "      <td>45.0</td>\n",
              "      <td>170.0</td>\n",
              "      <td>1.0010</td>\n",
              "      <td>3.00</td>\n",
              "      <td>0.45</td>\n",
              "      <td>8.8</td>\n",
              "    </tr>\n",
              "    <tr>\n",
              "      <th>1</th>\n",
              "      <td>6.3</td>\n",
              "      <td>0.30</td>\n",
              "      <td>0.34</td>\n",
              "      <td>1.6</td>\n",
              "      <td>0.049</td>\n",
              "      <td>14.0</td>\n",
              "      <td>132.0</td>\n",
              "      <td>0.9940</td>\n",
              "      <td>3.30</td>\n",
              "      <td>0.49</td>\n",
              "      <td>9.5</td>\n",
              "    </tr>\n",
              "    <tr>\n",
              "      <th>2</th>\n",
              "      <td>8.1</td>\n",
              "      <td>0.28</td>\n",
              "      <td>0.40</td>\n",
              "      <td>6.9</td>\n",
              "      <td>0.050</td>\n",
              "      <td>30.0</td>\n",
              "      <td>97.0</td>\n",
              "      <td>0.9951</td>\n",
              "      <td>3.26</td>\n",
              "      <td>0.44</td>\n",
              "      <td>10.1</td>\n",
              "    </tr>\n",
              "    <tr>\n",
              "      <th>3</th>\n",
              "      <td>7.2</td>\n",
              "      <td>0.23</td>\n",
              "      <td>0.32</td>\n",
              "      <td>8.5</td>\n",
              "      <td>0.058</td>\n",
              "      <td>47.0</td>\n",
              "      <td>186.0</td>\n",
              "      <td>0.9956</td>\n",
              "      <td>3.19</td>\n",
              "      <td>0.40</td>\n",
              "      <td>9.9</td>\n",
              "    </tr>\n",
              "    <tr>\n",
              "      <th>4</th>\n",
              "      <td>7.2</td>\n",
              "      <td>0.23</td>\n",
              "      <td>0.32</td>\n",
              "      <td>8.5</td>\n",
              "      <td>0.058</td>\n",
              "      <td>47.0</td>\n",
              "      <td>186.0</td>\n",
              "      <td>0.9956</td>\n",
              "      <td>3.19</td>\n",
              "      <td>0.40</td>\n",
              "      <td>9.9</td>\n",
              "    </tr>\n",
              "  </tbody>\n",
              "</table>\n",
              "</div>\n",
              "      <button class=\"colab-df-convert\" onclick=\"convertToInteractive('df-64ca3e92-e95d-49b4-b9dc-456150c1e7a0')\"\n",
              "              title=\"Convert this dataframe to an interactive table.\"\n",
              "              style=\"display:none;\">\n",
              "        \n",
              "  <svg xmlns=\"http://www.w3.org/2000/svg\" height=\"24px\"viewBox=\"0 0 24 24\"\n",
              "       width=\"24px\">\n",
              "    <path d=\"M0 0h24v24H0V0z\" fill=\"none\"/>\n",
              "    <path d=\"M18.56 5.44l.94 2.06.94-2.06 2.06-.94-2.06-.94-.94-2.06-.94 2.06-2.06.94zm-11 1L8.5 8.5l.94-2.06 2.06-.94-2.06-.94L8.5 2.5l-.94 2.06-2.06.94zm10 10l.94 2.06.94-2.06 2.06-.94-2.06-.94-.94-2.06-.94 2.06-2.06.94z\"/><path d=\"M17.41 7.96l-1.37-1.37c-.4-.4-.92-.59-1.43-.59-.52 0-1.04.2-1.43.59L10.3 9.45l-7.72 7.72c-.78.78-.78 2.05 0 2.83L4 21.41c.39.39.9.59 1.41.59.51 0 1.02-.2 1.41-.59l7.78-7.78 2.81-2.81c.8-.78.8-2.07 0-2.86zM5.41 20L4 18.59l7.72-7.72 1.47 1.35L5.41 20z\"/>\n",
              "  </svg>\n",
              "      </button>\n",
              "      \n",
              "  <style>\n",
              "    .colab-df-container {\n",
              "      display:flex;\n",
              "      flex-wrap:wrap;\n",
              "      gap: 12px;\n",
              "    }\n",
              "\n",
              "    .colab-df-convert {\n",
              "      background-color: #E8F0FE;\n",
              "      border: none;\n",
              "      border-radius: 50%;\n",
              "      cursor: pointer;\n",
              "      display: none;\n",
              "      fill: #1967D2;\n",
              "      height: 32px;\n",
              "      padding: 0 0 0 0;\n",
              "      width: 32px;\n",
              "    }\n",
              "\n",
              "    .colab-df-convert:hover {\n",
              "      background-color: #E2EBFA;\n",
              "      box-shadow: 0px 1px 2px rgba(60, 64, 67, 0.3), 0px 1px 3px 1px rgba(60, 64, 67, 0.15);\n",
              "      fill: #174EA6;\n",
              "    }\n",
              "\n",
              "    [theme=dark] .colab-df-convert {\n",
              "      background-color: #3B4455;\n",
              "      fill: #D2E3FC;\n",
              "    }\n",
              "\n",
              "    [theme=dark] .colab-df-convert:hover {\n",
              "      background-color: #434B5C;\n",
              "      box-shadow: 0px 1px 3px 1px rgba(0, 0, 0, 0.15);\n",
              "      filter: drop-shadow(0px 1px 2px rgba(0, 0, 0, 0.3));\n",
              "      fill: #FFFFFF;\n",
              "    }\n",
              "  </style>\n",
              "\n",
              "      <script>\n",
              "        const buttonEl =\n",
              "          document.querySelector('#df-64ca3e92-e95d-49b4-b9dc-456150c1e7a0 button.colab-df-convert');\n",
              "        buttonEl.style.display =\n",
              "          google.colab.kernel.accessAllowed ? 'block' : 'none';\n",
              "\n",
              "        async function convertToInteractive(key) {\n",
              "          const element = document.querySelector('#df-64ca3e92-e95d-49b4-b9dc-456150c1e7a0');\n",
              "          const dataTable =\n",
              "            await google.colab.kernel.invokeFunction('convertToInteractive',\n",
              "                                                     [key], {});\n",
              "          if (!dataTable) return;\n",
              "\n",
              "          const docLinkHtml = 'Like what you see? Visit the ' +\n",
              "            '<a target=\"_blank\" href=https://colab.research.google.com/notebooks/data_table.ipynb>data table notebook</a>'\n",
              "            + ' to learn more about interactive tables.';\n",
              "          element.innerHTML = '';\n",
              "          dataTable['output_type'] = 'display_data';\n",
              "          await google.colab.output.renderOutput(dataTable, element);\n",
              "          const docLink = document.createElement('div');\n",
              "          docLink.innerHTML = docLinkHtml;\n",
              "          element.appendChild(docLink);\n",
              "        }\n",
              "      </script>\n",
              "    </div>\n",
              "  </div>\n",
              "  "
            ]
          },
          "metadata": {},
          "execution_count": 29
        }
      ]
    },
    {
      "cell_type": "code",
      "source": [
        "from sklearn.linear_model import SGDClassifier\n",
        "from sklearn.preprocessing import StandardScaler\n",
        "from sklearn.pipeline import make_pipeline\n",
        "est = make_pipeline(StandardScaler(), SGDClassifier(loss=\"squared_error\"))\n",
        "est.fit(X_train,y_train)\n",
        "est.predict(X_test)\n"
      ],
      "metadata": {
        "colab": {
          "base_uri": "https://localhost:8080/"
        },
        "id": "PsSE8tJMWh80",
        "outputId": "7386a263-93d0-414a-d827-8a3ef00e3144"
      },
      "execution_count": 31,
      "outputs": [
        {
          "output_type": "execute_result",
          "data": {
            "text/plain": [
              "array([7, 7, 6, 5, 7, 5, 6, 6, 7, 5, 7, 6, 5, 5, 6, 5, 5, 7, 5, 6, 6, 6,\n",
              "       6, 6, 7, 7, 6, 5, 7, 5, 6, 5, 5, 5, 6, 6, 7, 5, 5, 6, 8, 6, 6, 5,\n",
              "       5, 5, 6, 5, 5, 6, 5, 5, 6, 6, 6, 5, 6, 7, 6, 7, 6, 5, 7, 6, 8, 7,\n",
              "       5, 7, 6, 6, 6, 5, 5, 6, 5, 5, 6, 7, 5, 5, 7, 5, 7, 7, 7, 5, 6, 7,\n",
              "       6, 5, 6, 5, 5, 7, 7, 5, 6, 6, 7, 5, 7, 6, 6, 6, 5, 7, 7, 5, 6, 8,\n",
              "       7, 7, 4, 6, 6, 5, 3, 5, 6, 6, 5, 6, 6, 5, 5, 7, 5, 6, 6, 5, 6, 7,\n",
              "       7, 7, 5, 7, 5, 6, 6, 5, 6, 5, 5, 5, 6, 6, 7, 7, 6, 5, 6, 7, 6, 5,\n",
              "       5, 5, 5, 5, 5, 6, 5, 6, 5, 4, 6, 5, 6, 8, 6, 6, 6, 6, 5, 6, 7, 7,\n",
              "       8, 6, 6, 6, 7, 7, 6, 7, 6, 6, 5, 8, 5, 5, 7, 5, 6, 7, 4, 6, 6, 6,\n",
              "       4, 7, 5, 5, 5, 5, 5, 7, 7, 6, 6, 5, 5, 6, 7, 7, 5, 5, 8, 6, 8, 7,\n",
              "       6, 6, 5, 5, 5, 7, 6, 5, 7, 5, 7, 6, 5, 7, 5, 5, 5, 5, 6, 6, 4, 5,\n",
              "       5, 5, 7, 8, 6, 5, 5, 7, 5, 5, 6, 7, 7, 7, 6, 5, 6, 5, 5, 5, 7, 7,\n",
              "       7, 5, 7, 6, 7, 6, 6, 6, 6, 7, 6, 6, 7, 7, 7, 8, 6, 6, 7, 5, 5, 6,\n",
              "       5, 7, 7, 7, 8, 7, 6, 7, 7, 6, 7, 6, 5, 7, 7, 5, 6, 5, 7, 6, 6, 5,\n",
              "       7, 7, 6, 5, 5, 7, 7, 7, 7, 5, 5, 5, 7, 7, 5, 5, 6, 5, 6, 6, 7, 6,\n",
              "       5, 6, 5, 6, 7, 6, 5, 7, 5, 7, 6, 5, 5, 5, 6, 8, 6, 4, 6, 5, 5, 6,\n",
              "       5, 5, 5, 7, 6, 7, 6, 7, 7, 6, 5, 5, 7, 5, 7, 5, 5, 5, 5, 6, 5, 8,\n",
              "       6, 6, 6, 6, 6, 7, 7, 5, 7, 8, 7, 5, 6, 6, 5, 6, 5, 5, 8, 6, 6, 4,\n",
              "       6, 6, 5, 6, 7, 5, 5, 6, 6, 8, 7, 7, 5, 5, 7, 5, 7, 6, 6, 7, 5, 5,\n",
              "       7, 8, 5, 6, 7, 5, 6, 5, 7, 7, 6, 6, 5, 6, 5, 6, 5, 6, 7, 6, 5, 5,\n",
              "       7, 5, 7, 7, 7, 7, 5, 8, 5, 5, 7, 6, 6, 5, 7, 7, 5, 6, 5, 6, 7, 5,\n",
              "       6, 8, 7, 5, 7, 6, 6, 5, 5, 6, 6, 6, 5, 8, 8, 5, 6, 5, 5, 6, 7, 7,\n",
              "       7, 6, 5, 5, 6, 7, 7, 6, 7, 6, 5, 5, 8, 6, 6, 5, 6, 7, 6, 6, 5, 5,\n",
              "       6, 5, 6, 5, 7, 5, 5, 5, 4, 6, 5, 6, 6, 5, 7, 5, 8, 7, 6, 5, 6, 5,\n",
              "       5, 7, 7, 8, 7, 5, 5, 5, 5, 6, 5, 7, 5, 7, 5, 5, 5, 5, 6, 6, 6, 6,\n",
              "       7, 7, 5, 7, 6, 7, 7, 5, 7, 6, 6, 5, 5, 5, 6, 7, 5, 7, 5, 4, 5, 5,\n",
              "       7, 7, 5, 5, 5, 5, 6, 5, 5, 6, 5, 7, 5, 6, 6, 5, 5, 5, 5, 8, 5, 7,\n",
              "       5, 6, 5, 6, 7, 5, 7, 5, 7, 5, 7, 6, 6, 6, 6, 5, 5, 5, 5, 5, 7, 5,\n",
              "       5, 7, 6, 6, 5, 5, 5, 6, 5, 5, 6, 6, 6, 7, 6, 7, 5, 5, 7, 6, 6, 6,\n",
              "       6, 6, 6, 5, 7, 5, 6, 7, 6, 5, 7, 7, 5, 5, 6, 7, 5, 6, 6, 7, 5, 7,\n",
              "       7, 5, 6, 5, 5, 5, 6, 5, 5, 6, 4, 6, 7, 5, 5, 7, 5, 6, 7, 7, 7, 6,\n",
              "       5, 5, 6, 6, 6, 5, 7, 5, 5, 6, 5, 6, 6, 5, 6, 6, 5, 6, 6, 5, 6, 6,\n",
              "       5, 7, 7, 5, 7, 6, 7, 5, 5, 6, 5, 6, 6, 6, 5, 7, 5, 5, 6, 6, 5, 5,\n",
              "       5, 5, 6, 7, 5, 5, 5, 5, 6, 5, 7, 6, 7, 5, 5, 5, 7, 7, 7, 5, 6, 6,\n",
              "       7, 7, 7, 6, 7, 5, 6, 5, 4, 7, 5, 6, 5, 5, 5, 6, 5, 7, 5, 6, 7, 7,\n",
              "       6, 6, 6, 5, 6, 5, 6, 5, 6, 6, 6, 5, 7, 6, 7, 5, 5, 7, 7, 6, 6, 6,\n",
              "       7, 6, 7, 5, 5, 6, 6, 5, 6, 5, 7, 5, 8, 7, 5, 7, 7, 6, 5, 6, 5, 5,\n",
              "       6, 6, 6, 5, 6, 6, 7, 6, 6, 6, 5, 5, 7, 5, 7, 5, 5, 6, 5, 5, 7, 5,\n",
              "       6, 6, 7, 7, 7, 7, 8, 8, 5, 5, 7, 5, 6, 6, 5, 5, 5, 5, 5, 8, 6, 7,\n",
              "       7, 7, 6, 6, 5, 6, 6, 5, 7, 5, 5, 6, 7, 7, 6, 5, 6, 5, 6, 5, 6, 5,\n",
              "       6, 5, 6, 6, 5, 5, 7, 6, 5, 6, 5, 7, 7, 6, 6, 6, 8, 6, 5, 5, 7, 6,\n",
              "       7, 5, 5, 8, 7, 6, 7, 5, 6, 5, 6, 5, 6, 5, 5, 5, 6, 6, 5, 6, 5, 6,\n",
              "       7, 5, 7, 5, 6, 6, 5, 5, 7, 6, 5, 6, 5, 6, 5, 7, 6, 5, 6, 6, 6, 7,\n",
              "       6, 6, 7, 7, 5, 6, 7, 7, 5, 6, 6, 5, 7, 6, 6, 6, 5, 5, 5, 5, 7, 5,\n",
              "       5, 6, 5, 6, 7, 7, 6, 5, 6, 7, 7, 7])"
            ]
          },
          "metadata": {},
          "execution_count": 31
        }
      ]
    },
    {
      "cell_type": "markdown",
      "source": [
        "# Nova seção"
      ],
      "metadata": {
        "id": "acq1FIX0Q-cf"
      }
    }
  ]
}