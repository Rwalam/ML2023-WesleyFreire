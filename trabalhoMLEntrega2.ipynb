{
  "nbformat": 4,
  "nbformat_minor": 0,
  "metadata": {
    "colab": {
      "provenance": [],
      "mount_file_id": "1t2Pmq5r-fQR269i55SAOJksNqdQwtwCp",
      "authorship_tag": "ABX9TyMeUtXAq8rWTwpJZdRmmlq9",
      "include_colab_link": true
    },
    "kernelspec": {
      "name": "python3",
      "display_name": "Python 3"
    },
    "language_info": {
      "name": "python"
    }
  },
  "cells": [
    {
      "cell_type": "markdown",
      "metadata": {
        "id": "view-in-github",
        "colab_type": "text"
      },
      "source": [
        "<a href=\"https://colab.research.google.com/github/Rwalam/ML2023-WesleyFreire/blob/main/trabalhoMLEntrega2.ipynb\" target=\"_parent\"><img src=\"https://colab.research.google.com/assets/colab-badge.svg\" alt=\"Open In Colab\"/></a>"
      ]
    },
    {
      "cell_type": "markdown",
      "source": [
        "#Imports / Conferindo se há valores nulos"
      ],
      "metadata": {
        "id": "85UOsAVkoAD8"
      }
    },
    {
      "cell_type": "code",
      "execution_count": 2,
      "metadata": {
        "id": "a2-Vh9dZLP4A"
      },
      "outputs": [],
      "source": [
        "import numpy as np\n",
        "import pandas as pd\n",
        "import seaborn as sns\n",
        "import matplotlib.pyplot as plt\n",
        "from sklearn.neighbors import KNeighborsClassifier\n",
        "from sklearn.ensemble import RandomForestClassifier\n",
        "from sklearn.neural_network import MLPClassifier\n",
        "from sklearn.model_selection import train_test_split, cross_val_score\n",
        "from sklearn.metrics import accuracy_score, classification_report, confusion_matrix\n",
        "from imblearn.over_sampling import SMOTE"
      ]
    },
    {
      "cell_type": "code",
      "source": [
        "from google.colab import drive\n",
        "drive.mount('/content/drive')"
      ],
      "metadata": {
        "colab": {
          "base_uri": "https://localhost:8080/"
        },
        "id": "asx10FXmBsCb",
        "outputId": "6a76f722-fc37-4eb3-e73a-5d34308f32bf"
      },
      "execution_count": null,
      "outputs": [
        {
          "output_type": "stream",
          "name": "stdout",
          "text": [
            "Drive already mounted at /content/drive; to attempt to forcibly remount, call drive.mount(\"/content/drive\", force_remount=True).\n"
          ]
        }
      ]
    },
    {
      "cell_type": "code",
      "source": [
        "df = pd.read_csv(\"/content/drive/MyDrive/Colab Notebooks/ML2023-1/creditcard.csv\")"
      ],
      "metadata": {
        "id": "mgyVhz8vM748"
      },
      "execution_count": null,
      "outputs": []
    },
    {
      "cell_type": "code",
      "source": [
        "df"
      ],
      "metadata": {
        "colab": {
          "base_uri": "https://localhost:8080/",
          "height": 488
        },
        "id": "Sli7ReaoNHlm",
        "outputId": "c729db7e-934c-451b-df46-1c6fd921f2a1"
      },
      "execution_count": null,
      "outputs": [
        {
          "output_type": "execute_result",
          "data": {
            "text/plain": [
              "            Time         V1         V2        V3        V4        V5  \\\n",
              "0            0.0  -1.359807  -0.072781  2.536347  1.378155 -0.338321   \n",
              "1            0.0   1.191857   0.266151  0.166480  0.448154  0.060018   \n",
              "2            1.0  -1.358354  -1.340163  1.773209  0.379780 -0.503198   \n",
              "3            1.0  -0.966272  -0.185226  1.792993 -0.863291 -0.010309   \n",
              "4            2.0  -1.158233   0.877737  1.548718  0.403034 -0.407193   \n",
              "...          ...        ...        ...       ...       ...       ...   \n",
              "284802  172786.0 -11.881118  10.071785 -9.834783 -2.066656 -5.364473   \n",
              "284803  172787.0  -0.732789  -0.055080  2.035030 -0.738589  0.868229   \n",
              "284804  172788.0   1.919565  -0.301254 -3.249640 -0.557828  2.630515   \n",
              "284805  172788.0  -0.240440   0.530483  0.702510  0.689799 -0.377961   \n",
              "284806  172792.0  -0.533413  -0.189733  0.703337 -0.506271 -0.012546   \n",
              "\n",
              "              V6        V7        V8        V9  ...       V21       V22  \\\n",
              "0       0.462388  0.239599  0.098698  0.363787  ... -0.018307  0.277838   \n",
              "1      -0.082361 -0.078803  0.085102 -0.255425  ... -0.225775 -0.638672   \n",
              "2       1.800499  0.791461  0.247676 -1.514654  ...  0.247998  0.771679   \n",
              "3       1.247203  0.237609  0.377436 -1.387024  ... -0.108300  0.005274   \n",
              "4       0.095921  0.592941 -0.270533  0.817739  ... -0.009431  0.798278   \n",
              "...          ...       ...       ...       ...  ...       ...       ...   \n",
              "284802 -2.606837 -4.918215  7.305334  1.914428  ...  0.213454  0.111864   \n",
              "284803  1.058415  0.024330  0.294869  0.584800  ...  0.214205  0.924384   \n",
              "284804  3.031260 -0.296827  0.708417  0.432454  ...  0.232045  0.578229   \n",
              "284805  0.623708 -0.686180  0.679145  0.392087  ...  0.265245  0.800049   \n",
              "284806 -0.649617  1.577006 -0.414650  0.486180  ...  0.261057  0.643078   \n",
              "\n",
              "             V23       V24       V25       V26       V27       V28  Amount  \\\n",
              "0      -0.110474  0.066928  0.128539 -0.189115  0.133558 -0.021053  149.62   \n",
              "1       0.101288 -0.339846  0.167170  0.125895 -0.008983  0.014724    2.69   \n",
              "2       0.909412 -0.689281 -0.327642 -0.139097 -0.055353 -0.059752  378.66   \n",
              "3      -0.190321 -1.175575  0.647376 -0.221929  0.062723  0.061458  123.50   \n",
              "4      -0.137458  0.141267 -0.206010  0.502292  0.219422  0.215153   69.99   \n",
              "...          ...       ...       ...       ...       ...       ...     ...   \n",
              "284802  1.014480 -0.509348  1.436807  0.250034  0.943651  0.823731    0.77   \n",
              "284803  0.012463 -1.016226 -0.606624 -0.395255  0.068472 -0.053527   24.79   \n",
              "284804 -0.037501  0.640134  0.265745 -0.087371  0.004455 -0.026561   67.88   \n",
              "284805 -0.163298  0.123205 -0.569159  0.546668  0.108821  0.104533   10.00   \n",
              "284806  0.376777  0.008797 -0.473649 -0.818267 -0.002415  0.013649  217.00   \n",
              "\n",
              "        Class  \n",
              "0           0  \n",
              "1           0  \n",
              "2           0  \n",
              "3           0  \n",
              "4           0  \n",
              "...       ...  \n",
              "284802      0  \n",
              "284803      0  \n",
              "284804      0  \n",
              "284805      0  \n",
              "284806      0  \n",
              "\n",
              "[284807 rows x 31 columns]"
            ],
            "text/html": [
              "\n",
              "  <div id=\"df-59389f76-40da-499f-85cd-f095515cf7d6\">\n",
              "    <div class=\"colab-df-container\">\n",
              "      <div>\n",
              "<style scoped>\n",
              "    .dataframe tbody tr th:only-of-type {\n",
              "        vertical-align: middle;\n",
              "    }\n",
              "\n",
              "    .dataframe tbody tr th {\n",
              "        vertical-align: top;\n",
              "    }\n",
              "\n",
              "    .dataframe thead th {\n",
              "        text-align: right;\n",
              "    }\n",
              "</style>\n",
              "<table border=\"1\" class=\"dataframe\">\n",
              "  <thead>\n",
              "    <tr style=\"text-align: right;\">\n",
              "      <th></th>\n",
              "      <th>Time</th>\n",
              "      <th>V1</th>\n",
              "      <th>V2</th>\n",
              "      <th>V3</th>\n",
              "      <th>V4</th>\n",
              "      <th>V5</th>\n",
              "      <th>V6</th>\n",
              "      <th>V7</th>\n",
              "      <th>V8</th>\n",
              "      <th>V9</th>\n",
              "      <th>...</th>\n",
              "      <th>V21</th>\n",
              "      <th>V22</th>\n",
              "      <th>V23</th>\n",
              "      <th>V24</th>\n",
              "      <th>V25</th>\n",
              "      <th>V26</th>\n",
              "      <th>V27</th>\n",
              "      <th>V28</th>\n",
              "      <th>Amount</th>\n",
              "      <th>Class</th>\n",
              "    </tr>\n",
              "  </thead>\n",
              "  <tbody>\n",
              "    <tr>\n",
              "      <th>0</th>\n",
              "      <td>0.0</td>\n",
              "      <td>-1.359807</td>\n",
              "      <td>-0.072781</td>\n",
              "      <td>2.536347</td>\n",
              "      <td>1.378155</td>\n",
              "      <td>-0.338321</td>\n",
              "      <td>0.462388</td>\n",
              "      <td>0.239599</td>\n",
              "      <td>0.098698</td>\n",
              "      <td>0.363787</td>\n",
              "      <td>...</td>\n",
              "      <td>-0.018307</td>\n",
              "      <td>0.277838</td>\n",
              "      <td>-0.110474</td>\n",
              "      <td>0.066928</td>\n",
              "      <td>0.128539</td>\n",
              "      <td>-0.189115</td>\n",
              "      <td>0.133558</td>\n",
              "      <td>-0.021053</td>\n",
              "      <td>149.62</td>\n",
              "      <td>0</td>\n",
              "    </tr>\n",
              "    <tr>\n",
              "      <th>1</th>\n",
              "      <td>0.0</td>\n",
              "      <td>1.191857</td>\n",
              "      <td>0.266151</td>\n",
              "      <td>0.166480</td>\n",
              "      <td>0.448154</td>\n",
              "      <td>0.060018</td>\n",
              "      <td>-0.082361</td>\n",
              "      <td>-0.078803</td>\n",
              "      <td>0.085102</td>\n",
              "      <td>-0.255425</td>\n",
              "      <td>...</td>\n",
              "      <td>-0.225775</td>\n",
              "      <td>-0.638672</td>\n",
              "      <td>0.101288</td>\n",
              "      <td>-0.339846</td>\n",
              "      <td>0.167170</td>\n",
              "      <td>0.125895</td>\n",
              "      <td>-0.008983</td>\n",
              "      <td>0.014724</td>\n",
              "      <td>2.69</td>\n",
              "      <td>0</td>\n",
              "    </tr>\n",
              "    <tr>\n",
              "      <th>2</th>\n",
              "      <td>1.0</td>\n",
              "      <td>-1.358354</td>\n",
              "      <td>-1.340163</td>\n",
              "      <td>1.773209</td>\n",
              "      <td>0.379780</td>\n",
              "      <td>-0.503198</td>\n",
              "      <td>1.800499</td>\n",
              "      <td>0.791461</td>\n",
              "      <td>0.247676</td>\n",
              "      <td>-1.514654</td>\n",
              "      <td>...</td>\n",
              "      <td>0.247998</td>\n",
              "      <td>0.771679</td>\n",
              "      <td>0.909412</td>\n",
              "      <td>-0.689281</td>\n",
              "      <td>-0.327642</td>\n",
              "      <td>-0.139097</td>\n",
              "      <td>-0.055353</td>\n",
              "      <td>-0.059752</td>\n",
              "      <td>378.66</td>\n",
              "      <td>0</td>\n",
              "    </tr>\n",
              "    <tr>\n",
              "      <th>3</th>\n",
              "      <td>1.0</td>\n",
              "      <td>-0.966272</td>\n",
              "      <td>-0.185226</td>\n",
              "      <td>1.792993</td>\n",
              "      <td>-0.863291</td>\n",
              "      <td>-0.010309</td>\n",
              "      <td>1.247203</td>\n",
              "      <td>0.237609</td>\n",
              "      <td>0.377436</td>\n",
              "      <td>-1.387024</td>\n",
              "      <td>...</td>\n",
              "      <td>-0.108300</td>\n",
              "      <td>0.005274</td>\n",
              "      <td>-0.190321</td>\n",
              "      <td>-1.175575</td>\n",
              "      <td>0.647376</td>\n",
              "      <td>-0.221929</td>\n",
              "      <td>0.062723</td>\n",
              "      <td>0.061458</td>\n",
              "      <td>123.50</td>\n",
              "      <td>0</td>\n",
              "    </tr>\n",
              "    <tr>\n",
              "      <th>4</th>\n",
              "      <td>2.0</td>\n",
              "      <td>-1.158233</td>\n",
              "      <td>0.877737</td>\n",
              "      <td>1.548718</td>\n",
              "      <td>0.403034</td>\n",
              "      <td>-0.407193</td>\n",
              "      <td>0.095921</td>\n",
              "      <td>0.592941</td>\n",
              "      <td>-0.270533</td>\n",
              "      <td>0.817739</td>\n",
              "      <td>...</td>\n",
              "      <td>-0.009431</td>\n",
              "      <td>0.798278</td>\n",
              "      <td>-0.137458</td>\n",
              "      <td>0.141267</td>\n",
              "      <td>-0.206010</td>\n",
              "      <td>0.502292</td>\n",
              "      <td>0.219422</td>\n",
              "      <td>0.215153</td>\n",
              "      <td>69.99</td>\n",
              "      <td>0</td>\n",
              "    </tr>\n",
              "    <tr>\n",
              "      <th>...</th>\n",
              "      <td>...</td>\n",
              "      <td>...</td>\n",
              "      <td>...</td>\n",
              "      <td>...</td>\n",
              "      <td>...</td>\n",
              "      <td>...</td>\n",
              "      <td>...</td>\n",
              "      <td>...</td>\n",
              "      <td>...</td>\n",
              "      <td>...</td>\n",
              "      <td>...</td>\n",
              "      <td>...</td>\n",
              "      <td>...</td>\n",
              "      <td>...</td>\n",
              "      <td>...</td>\n",
              "      <td>...</td>\n",
              "      <td>...</td>\n",
              "      <td>...</td>\n",
              "      <td>...</td>\n",
              "      <td>...</td>\n",
              "      <td>...</td>\n",
              "    </tr>\n",
              "    <tr>\n",
              "      <th>284802</th>\n",
              "      <td>172786.0</td>\n",
              "      <td>-11.881118</td>\n",
              "      <td>10.071785</td>\n",
              "      <td>-9.834783</td>\n",
              "      <td>-2.066656</td>\n",
              "      <td>-5.364473</td>\n",
              "      <td>-2.606837</td>\n",
              "      <td>-4.918215</td>\n",
              "      <td>7.305334</td>\n",
              "      <td>1.914428</td>\n",
              "      <td>...</td>\n",
              "      <td>0.213454</td>\n",
              "      <td>0.111864</td>\n",
              "      <td>1.014480</td>\n",
              "      <td>-0.509348</td>\n",
              "      <td>1.436807</td>\n",
              "      <td>0.250034</td>\n",
              "      <td>0.943651</td>\n",
              "      <td>0.823731</td>\n",
              "      <td>0.77</td>\n",
              "      <td>0</td>\n",
              "    </tr>\n",
              "    <tr>\n",
              "      <th>284803</th>\n",
              "      <td>172787.0</td>\n",
              "      <td>-0.732789</td>\n",
              "      <td>-0.055080</td>\n",
              "      <td>2.035030</td>\n",
              "      <td>-0.738589</td>\n",
              "      <td>0.868229</td>\n",
              "      <td>1.058415</td>\n",
              "      <td>0.024330</td>\n",
              "      <td>0.294869</td>\n",
              "      <td>0.584800</td>\n",
              "      <td>...</td>\n",
              "      <td>0.214205</td>\n",
              "      <td>0.924384</td>\n",
              "      <td>0.012463</td>\n",
              "      <td>-1.016226</td>\n",
              "      <td>-0.606624</td>\n",
              "      <td>-0.395255</td>\n",
              "      <td>0.068472</td>\n",
              "      <td>-0.053527</td>\n",
              "      <td>24.79</td>\n",
              "      <td>0</td>\n",
              "    </tr>\n",
              "    <tr>\n",
              "      <th>284804</th>\n",
              "      <td>172788.0</td>\n",
              "      <td>1.919565</td>\n",
              "      <td>-0.301254</td>\n",
              "      <td>-3.249640</td>\n",
              "      <td>-0.557828</td>\n",
              "      <td>2.630515</td>\n",
              "      <td>3.031260</td>\n",
              "      <td>-0.296827</td>\n",
              "      <td>0.708417</td>\n",
              "      <td>0.432454</td>\n",
              "      <td>...</td>\n",
              "      <td>0.232045</td>\n",
              "      <td>0.578229</td>\n",
              "      <td>-0.037501</td>\n",
              "      <td>0.640134</td>\n",
              "      <td>0.265745</td>\n",
              "      <td>-0.087371</td>\n",
              "      <td>0.004455</td>\n",
              "      <td>-0.026561</td>\n",
              "      <td>67.88</td>\n",
              "      <td>0</td>\n",
              "    </tr>\n",
              "    <tr>\n",
              "      <th>284805</th>\n",
              "      <td>172788.0</td>\n",
              "      <td>-0.240440</td>\n",
              "      <td>0.530483</td>\n",
              "      <td>0.702510</td>\n",
              "      <td>0.689799</td>\n",
              "      <td>-0.377961</td>\n",
              "      <td>0.623708</td>\n",
              "      <td>-0.686180</td>\n",
              "      <td>0.679145</td>\n",
              "      <td>0.392087</td>\n",
              "      <td>...</td>\n",
              "      <td>0.265245</td>\n",
              "      <td>0.800049</td>\n",
              "      <td>-0.163298</td>\n",
              "      <td>0.123205</td>\n",
              "      <td>-0.569159</td>\n",
              "      <td>0.546668</td>\n",
              "      <td>0.108821</td>\n",
              "      <td>0.104533</td>\n",
              "      <td>10.00</td>\n",
              "      <td>0</td>\n",
              "    </tr>\n",
              "    <tr>\n",
              "      <th>284806</th>\n",
              "      <td>172792.0</td>\n",
              "      <td>-0.533413</td>\n",
              "      <td>-0.189733</td>\n",
              "      <td>0.703337</td>\n",
              "      <td>-0.506271</td>\n",
              "      <td>-0.012546</td>\n",
              "      <td>-0.649617</td>\n",
              "      <td>1.577006</td>\n",
              "      <td>-0.414650</td>\n",
              "      <td>0.486180</td>\n",
              "      <td>...</td>\n",
              "      <td>0.261057</td>\n",
              "      <td>0.643078</td>\n",
              "      <td>0.376777</td>\n",
              "      <td>0.008797</td>\n",
              "      <td>-0.473649</td>\n",
              "      <td>-0.818267</td>\n",
              "      <td>-0.002415</td>\n",
              "      <td>0.013649</td>\n",
              "      <td>217.00</td>\n",
              "      <td>0</td>\n",
              "    </tr>\n",
              "  </tbody>\n",
              "</table>\n",
              "<p>284807 rows × 31 columns</p>\n",
              "</div>\n",
              "      <button class=\"colab-df-convert\" onclick=\"convertToInteractive('df-59389f76-40da-499f-85cd-f095515cf7d6')\"\n",
              "              title=\"Convert this dataframe to an interactive table.\"\n",
              "              style=\"display:none;\">\n",
              "        \n",
              "  <svg xmlns=\"http://www.w3.org/2000/svg\" height=\"24px\"viewBox=\"0 0 24 24\"\n",
              "       width=\"24px\">\n",
              "    <path d=\"M0 0h24v24H0V0z\" fill=\"none\"/>\n",
              "    <path d=\"M18.56 5.44l.94 2.06.94-2.06 2.06-.94-2.06-.94-.94-2.06-.94 2.06-2.06.94zm-11 1L8.5 8.5l.94-2.06 2.06-.94-2.06-.94L8.5 2.5l-.94 2.06-2.06.94zm10 10l.94 2.06.94-2.06 2.06-.94-2.06-.94-.94-2.06-.94 2.06-2.06.94z\"/><path d=\"M17.41 7.96l-1.37-1.37c-.4-.4-.92-.59-1.43-.59-.52 0-1.04.2-1.43.59L10.3 9.45l-7.72 7.72c-.78.78-.78 2.05 0 2.83L4 21.41c.39.39.9.59 1.41.59.51 0 1.02-.2 1.41-.59l7.78-7.78 2.81-2.81c.8-.78.8-2.07 0-2.86zM5.41 20L4 18.59l7.72-7.72 1.47 1.35L5.41 20z\"/>\n",
              "  </svg>\n",
              "      </button>\n",
              "      \n",
              "  <style>\n",
              "    .colab-df-container {\n",
              "      display:flex;\n",
              "      flex-wrap:wrap;\n",
              "      gap: 12px;\n",
              "    }\n",
              "\n",
              "    .colab-df-convert {\n",
              "      background-color: #E8F0FE;\n",
              "      border: none;\n",
              "      border-radius: 50%;\n",
              "      cursor: pointer;\n",
              "      display: none;\n",
              "      fill: #1967D2;\n",
              "      height: 32px;\n",
              "      padding: 0 0 0 0;\n",
              "      width: 32px;\n",
              "    }\n",
              "\n",
              "    .colab-df-convert:hover {\n",
              "      background-color: #E2EBFA;\n",
              "      box-shadow: 0px 1px 2px rgba(60, 64, 67, 0.3), 0px 1px 3px 1px rgba(60, 64, 67, 0.15);\n",
              "      fill: #174EA6;\n",
              "    }\n",
              "\n",
              "    [theme=dark] .colab-df-convert {\n",
              "      background-color: #3B4455;\n",
              "      fill: #D2E3FC;\n",
              "    }\n",
              "\n",
              "    [theme=dark] .colab-df-convert:hover {\n",
              "      background-color: #434B5C;\n",
              "      box-shadow: 0px 1px 3px 1px rgba(0, 0, 0, 0.15);\n",
              "      filter: drop-shadow(0px 1px 2px rgba(0, 0, 0, 0.3));\n",
              "      fill: #FFFFFF;\n",
              "    }\n",
              "  </style>\n",
              "\n",
              "      <script>\n",
              "        const buttonEl =\n",
              "          document.querySelector('#df-59389f76-40da-499f-85cd-f095515cf7d6 button.colab-df-convert');\n",
              "        buttonEl.style.display =\n",
              "          google.colab.kernel.accessAllowed ? 'block' : 'none';\n",
              "\n",
              "        async function convertToInteractive(key) {\n",
              "          const element = document.querySelector('#df-59389f76-40da-499f-85cd-f095515cf7d6');\n",
              "          const dataTable =\n",
              "            await google.colab.kernel.invokeFunction('convertToInteractive',\n",
              "                                                     [key], {});\n",
              "          if (!dataTable) return;\n",
              "\n",
              "          const docLinkHtml = 'Like what you see? Visit the ' +\n",
              "            '<a target=\"_blank\" href=https://colab.research.google.com/notebooks/data_table.ipynb>data table notebook</a>'\n",
              "            + ' to learn more about interactive tables.';\n",
              "          element.innerHTML = '';\n",
              "          dataTable['output_type'] = 'display_data';\n",
              "          await google.colab.output.renderOutput(dataTable, element);\n",
              "          const docLink = document.createElement('div');\n",
              "          docLink.innerHTML = docLinkHtml;\n",
              "          element.appendChild(docLink);\n",
              "        }\n",
              "      </script>\n",
              "    </div>\n",
              "  </div>\n",
              "  "
            ]
          },
          "metadata": {},
          "execution_count": 6
        }
      ]
    },
    {
      "cell_type": "code",
      "source": [
        "df.isna().sum().sum()\n",
        "#nenhum N.A"
      ],
      "metadata": {
        "colab": {
          "base_uri": "https://localhost:8080/"
        },
        "id": "juPW-w_DO9uO",
        "outputId": "77a175f9-509d-48a1-b259-07e987393e6a"
      },
      "execution_count": null,
      "outputs": [
        {
          "output_type": "execute_result",
          "data": {
            "text/plain": [
              "0"
            ]
          },
          "metadata": {},
          "execution_count": 7
        }
      ]
    },
    {
      "cell_type": "markdown",
      "source": [
        "#HeatMap das labels"
      ],
      "metadata": {
        "id": "eRSgndYMqO_e"
      }
    },
    {
      "cell_type": "code",
      "source": [
        "correlation_matrix = df.corr()\n",
        "\n",
        "sns.heatmap(correlation_matrix, cmap=\"YlGnBu\")\n",
        "\n",
        "plt.title(\"Matriz de Correlação\")\n",
        "\n",
        "plt.show()"
      ],
      "metadata": {
        "colab": {
          "base_uri": "https://localhost:8080/",
          "height": 475
        },
        "id": "cwLwqgypqOTH",
        "outputId": "962b8cd1-71b1-47ea-d0f7-2737024396d6"
      },
      "execution_count": null,
      "outputs": [
        {
          "output_type": "display_data",
          "data": {
            "text/plain": [
              "<Figure size 640x480 with 2 Axes>"
            ],
            "image/png": "[encoded data removed]"
          },
          "metadata": {}
        }
      ]
    },
    {
      "cell_type": "markdown",
      "source": [
        "#Histograma do tempo pelo fluxo de transações"
      ],
      "metadata": {
        "id": "hakhi4d6zlWC"
      }
    },
    {
      "cell_type": "code",
      "source": [
        "sns.histplot(data=df, x=\"Time\", kde=True)\n",
        "\n",
        "plt.title(\"Histograma - Distribuição de Tempo\")\n",
        "\n",
        "plt.show()"
      ],
      "metadata": {
        "colab": {
          "base_uri": "https://localhost:8080/",
          "height": 472
        },
        "id": "ATabESzYzK2Y",
        "outputId": "b866e033-14dc-42f7-c427-7f567ed9e667"
      },
      "execution_count": null,
      "outputs": [
        {
          "output_type": "display_data",
          "data": {
            "text/plain": [
              "<Figure size 640x480 with 1 Axes>"
            ],
            "image/png": "[encoded data removed]"
          },
          "metadata": {}
        }
      ]
    },
    {
      "cell_type": "markdown",
      "source": [
        "# Problema de desbalanceamento"
      ],
      "metadata": {
        "id": "LkbIOvTnCKd7"
      }
    },
    {
      "cell_type": "code",
      "source": [
        "contagem = df['Class'].value_counts()\n",
        "contagem"
      ],
      "metadata": {
        "colab": {
          "base_uri": "https://localhost:8080/"
        },
        "id": "IGrOijQoPYJX",
        "outputId": "ff8a702b-3a16-4a0e-e9b9-03b5bf2a61c7"
      },
      "execution_count": null,
      "outputs": [
        {
          "output_type": "execute_result",
          "data": {
            "text/plain": [
              "0    284315\n",
              "1       492\n",
              "Name: Class, dtype: int64"
            ]
          },
          "metadata": {},
          "execution_count": 10
        }
      ]
    },
    {
      "cell_type": "markdown",
      "source": [
        "# Balanceamento por oversampling"
      ],
      "metadata": {
        "id": "CDeKltWcqt43"
      }
    },
    {
      "cell_type": "code",
      "source": [
        "smt = SMOTE()"
      ],
      "metadata": {
        "id": "QKIgpyicrBY4"
      },
      "execution_count": null,
      "outputs": []
    },
    {
      "cell_type": "code",
      "source": [
        "features = df.drop('Class', axis=1)\n",
        "target = df['Class']"
      ],
      "metadata": {
        "id": "oXOdNc6asjG3"
      },
      "execution_count": null,
      "outputs": []
    },
    {
      "cell_type": "code",
      "source": [
        "features, target = smt.fit_resample(features, target)"
      ],
      "metadata": {
        "id": "ePBLtriDskoG"
      },
      "execution_count": null,
      "outputs": []
    },
    {
      "cell_type": "code",
      "source": [
        "contagem = target.value_counts()\n",
        "contagem"
      ],
      "metadata": {
        "colab": {
          "base_uri": "https://localhost:8080/"
        },
        "id": "zqePQdZ6CtwS",
        "outputId": "7ad6963e-ad8d-45c6-faf1-bd9f0eb4163b"
      },
      "execution_count": null,
      "outputs": [
        {
          "output_type": "execute_result",
          "data": {
            "text/plain": [
              "0    284315\n",
              "1    284315\n",
              "Name: Class, dtype: int64"
            ]
          },
          "metadata": {},
          "execution_count": 10
        }
      ]
    },
    {
      "cell_type": "markdown",
      "source": [
        "#Split de treino e teste"
      ],
      "metadata": {
        "id": "h1aLjTUeqb4W"
      }
    },
    {
      "cell_type": "code",
      "source": [
        "X_train, X_test, y_train, y_test = train_test_split(features, target, test_size=0.2, random_state=0)"
      ],
      "metadata": {
        "id": "MKrBi2xtpn-S"
      },
      "execution_count": null,
      "outputs": []
    },
    {
      "cell_type": "markdown",
      "source": [
        "#Treino do KNN e obetivo"
      ],
      "metadata": {
        "id": "s_AyRLMkD9Ei"
      }
    },
    {
      "cell_type": "code",
      "source": [
        "test_error_rate = []\n",
        "\n",
        "for k in range(15, 20):\n",
        "    knn = KNeighborsClassifier(n_neighbors=k)\n",
        "    knn.fit(X_train, y_train)\n",
        "\n",
        "    # Fazer previsões nos dados de teste e calcular a taxa de erro\n",
        "    test_predictions = knn.predict(X_test)\n",
        "    test_error = 1 - accuracy_score(y_test, test_predictions)\n",
        "    test_error_rate.append(test_error)"
      ],
      "metadata": {
        "id": "CUFIgyBBY8Ku"
      },
      "execution_count": null,
      "outputs": []
    },
    {
      "cell_type": "code",
      "source": [
        "test_error_rate"
      ],
      "metadata": {
        "colab": {
          "base_uri": "https://localhost:8080/"
        },
        "id": "ZBoQoVHIf7pm",
        "outputId": "b33903e7-623a-48e6-f292-ad143c50bc14"
      },
      "execution_count": null,
      "outputs": [
        {
          "output_type": "execute_result",
          "data": {
            "text/plain": [
              "[0.02908745581485328,\n",
              " 0.031241756502470852,\n",
              " 0.03753759034873294,\n",
              " 0.0394368921794489,\n",
              " 0.044783075110352955,\n",
              " 0.04613720697114121,\n",
              " 0.05105252976452179,\n",
              " 0.05223080034468808,\n",
              " 0.05612612771046199,\n",
              " 0.05718129539419303,\n",
              " 0.06091834760740733,\n",
              " 0.0617448956263299]"
            ]
          },
          "metadata": {},
          "execution_count": 16
        }
      ]
    },
    {
      "cell_type": "code",
      "source": [
        "from sklearn.metrics import confusion_matrix"
      ],
      "metadata": {
        "id": "uD5rZE9Znw4K"
      },
      "execution_count": null,
      "outputs": []
    },
    {
      "cell_type": "code",
      "source": [
        "confusion_matrix(y_test, test_predictions)"
      ],
      "metadata": {
        "colab": {
          "base_uri": "https://localhost:8080/"
        },
        "id": "xs1EIdTNnbUs",
        "outputId": "bbe1c9b6-3a41-4d0e-af77-52966e56f0a5"
      },
      "execution_count": null,
      "outputs": [
        {
          "output_type": "execute_result",
          "data": {
            "text/plain": [
              "array([[52670,  4054],\n",
              "       [ 2968, 54034]])"
            ]
          },
          "metadata": {},
          "execution_count": 18
        }
      ]
    },
    {
      "cell_type": "markdown",
      "source": [
        "#O objetivo vai ser minimizar os falso negativos, ou seja, os que foram preditos como se não fossem transações fraudulentas mas na verdade eram"
      ],
      "metadata": {
        "id": "0ZR4O3GgtWY5"
      }
    },
    {
      "cell_type": "markdown",
      "source": [
        "![confusion_matrix.png](data:image/png;base64,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)"
      ],
      "metadata": {
        "id": "-ljcuAoCs3Es"
      }
    },
    {
      "cell_type": "markdown",
      "source": [
        "#Lista de taxa de erros 3-15 e matriz de confusão"
      ],
      "metadata": {
        "id": "w-g77TZAWKbg"
      }
    },
    {
      "cell_type": "markdown",
      "source": [],
      "metadata": {
        "id": "v72kUDnQWv6R"
      }
    },
    {
      "cell_type": "code",
      "source": [
        "plt.title('Graph')\n",
        "plt.xlabel('K')\n",
        "plt.ylabel('error_rate')\n",
        "sns.lineplot(x=range(3,15),y=test_error_rate, color='red')"
      ],
      "metadata": {
        "colab": {
          "base_uri": "https://localhost:8080/",
          "height": 489
        },
        "id": "oFGA2z4i8eVo",
        "outputId": "9f57de4e-087c-480f-ac97-99452a09e874"
      },
      "execution_count": null,
      "outputs": [
        {
          "output_type": "execute_result",
          "data": {
            "text/plain": [
              "<Axes: title={'center': 'Graph'}, xlabel='K', ylabel='error_rate'>"
            ]
          },
          "metadata": {},
          "execution_count": 19
        },
        {
          "output_type": "display_data",
          "data": {
            "text/plain": [
              "<Figure size 640x480 with 1 Axes>"
            ],
            "image/png": "[encoded data removed]"
          },
          "metadata": {}
        }
      ]
    },
    {
      "cell_type": "markdown",
      "source": [
        "#Lista de taxa de erros 15-19, matriz de confusão e gráfico"
      ],
      "metadata": {
        "id": "Q8A2maM0Wylq"
      }
    },
    {
      "cell_type": "code",
      "source": [
        "test_error_rate"
      ],
      "metadata": {
        "colab": {
          "base_uri": "https://localhost:8080/"
        },
        "id": "vIA71STcW9st",
        "outputId": "cbae9dbb-51e8-493a-a7b4-e588d6ca6f98"
      },
      "execution_count": null,
      "outputs": [
        {
          "output_type": "execute_result",
          "data": {
            "text/plain": [
              "[0.06578970508063242,\n",
              " 0.06656349471536849,\n",
              " 0.06969382551043735,\n",
              " 0.07038847756889366,\n",
              " 0.07295605226597257]"
            ]
          },
          "metadata": {},
          "execution_count": 21
        }
      ]
    },
    {
      "cell_type": "code",
      "source": [
        "plt.title('Graph')\n",
        "plt.xlabel('K')\n",
        "plt.ylabel('error_rate')\n",
        "sns.lineplot(x=range(15,20),y=test_error_rate, color='red')"
      ],
      "metadata": {
        "colab": {
          "base_uri": "https://localhost:8080/",
          "height": 489
        },
        "id": "z37SGYnKYFrw",
        "outputId": "e96d4221-0da9-4b8e-e98a-bbc53281a2db"
      },
      "execution_count": null,
      "outputs": [
        {
          "output_type": "execute_result",
          "data": {
            "text/plain": [
              "<Axes: title={'center': 'Graph'}, xlabel='K', ylabel='error_rate'>"
            ]
          },
          "metadata": {},
          "execution_count": 30
        },
        {
          "output_type": "display_data",
          "data": {
            "text/plain": [
              "<Figure size 640x480 with 1 Axes>"
            ],
            "image/png": "[encoded data removed]"
          },
          "metadata": {}
        }
      ]
    },
    {
      "cell_type": "markdown",
      "source": [
        "#Execução do melhor hiperparametro K para treinar o modelo"
      ],
      "metadata": {
        "id": "-CQVsbzlWYtK"
      }
    },
    {
      "cell_type": "code",
      "source": [
        "knn = KNeighborsClassifier(n_neighbors=4)\n",
        "knn.fit(X_train, y_train)"
      ],
      "metadata": {
        "colab": {
          "base_uri": "https://localhost:8080/",
          "height": 75
        },
        "id": "4xyG0J7WoRxt",
        "outputId": "c72f8b68-b2d0-411b-b640-85662fa42c49"
      },
      "execution_count": null,
      "outputs": [
        {
          "output_type": "execute_result",
          "data": {
            "text/plain": [
              "KNeighborsClassifier(n_neighbors=20)"
            ],
            "text/html": [
              "<style>#sk-container-id-1 {color: black;background-color: white;}#sk-container-id-1 pre{padding: 0;}#sk-container-id-1 div.sk-toggleable {background-color: white;}#sk-container-id-1 label.sk-toggleable__label {cursor: pointer;display: block;width: 100%;margin-bottom: 0;padding: 0.3em;box-sizing: border-box;text-align: center;}#sk-container-id-1 label.sk-toggleable__label-arrow:before {content: \"▸\";float: left;margin-right: 0.25em;color: #696969;}#sk-container-id-1 label.sk-toggleable__label-arrow:hover:before {color: black;}#sk-container-id-1 div.sk-estimator:hover label.sk-toggleable__label-arrow:before {color: black;}#sk-container-id-1 div.sk-toggleable__content {max-height: 0;max-width: 0;overflow: hidden;text-align: left;background-color: #f0f8ff;}#sk-container-id-1 div.sk-toggleable__content pre {margin: 0.2em;color: black;border-radius: 0.25em;background-color: #f0f8ff;}#sk-container-id-1 input.sk-toggleable__control:checked~div.sk-toggleable__content {max-height: 200px;max-width: 100%;overflow: auto;}#sk-container-id-1 input.sk-toggleable__control:checked~label.sk-toggleable__label-arrow:before {content: \"▾\";}#sk-container-id-1 div.sk-estimator input.sk-toggleable__control:checked~label.sk-toggleable__label {background-color: #d4ebff;}#sk-container-id-1 div.sk-label input.sk-toggleable__control:checked~label.sk-toggleable__label {background-color: #d4ebff;}#sk-container-id-1 input.sk-hidden--visually {border: 0;clip: rect(1px 1px 1px 1px);clip: rect(1px, 1px, 1px, 1px);height: 1px;margin: -1px;overflow: hidden;padding: 0;position: absolute;width: 1px;}#sk-container-id-1 div.sk-estimator {font-family: monospace;background-color: #f0f8ff;border: 1px dotted black;border-radius: 0.25em;box-sizing: border-box;margin-bottom: 0.5em;}#sk-container-id-1 div.sk-estimator:hover {background-color: #d4ebff;}#sk-container-id-1 div.sk-parallel-item::after {content: \"\";width: 100%;border-bottom: 1px solid gray;flex-grow: 1;}#sk-container-id-1 div.sk-label:hover label.sk-toggleable__label {background-color: #d4ebff;}#sk-container-id-1 div.sk-serial::before {content: \"\";position: absolute;border-left: 1px solid gray;box-sizing: border-box;top: 0;bottom: 0;left: 50%;z-index: 0;}#sk-container-id-1 div.sk-serial {display: flex;flex-direction: column;align-items: center;background-color: white;padding-right: 0.2em;padding-left: 0.2em;position: relative;}#sk-container-id-1 div.sk-item {position: relative;z-index: 1;}#sk-container-id-1 div.sk-parallel {display: flex;align-items: stretch;justify-content: center;background-color: white;position: relative;}#sk-container-id-1 div.sk-item::before, #sk-container-id-1 div.sk-parallel-item::before {content: \"\";position: absolute;border-left: 1px solid gray;box-sizing: border-box;top: 0;bottom: 0;left: 50%;z-index: -1;}#sk-container-id-1 div.sk-parallel-item {display: flex;flex-direction: column;z-index: 1;position: relative;background-color: white;}#sk-container-id-1 div.sk-parallel-item:first-child::after {align-self: flex-end;width: 50%;}#sk-container-id-1 div.sk-parallel-item:last-child::after {align-self: flex-start;width: 50%;}#sk-container-id-1 div.sk-parallel-item:only-child::after {width: 0;}#sk-container-id-1 div.sk-dashed-wrapped {border: 1px dashed gray;margin: 0 0.4em 0.5em 0.4em;box-sizing: border-box;padding-bottom: 0.4em;background-color: white;}#sk-container-id-1 div.sk-label label {font-family: monospace;font-weight: bold;display: inline-block;line-height: 1.2em;}#sk-container-id-1 div.sk-label-container {text-align: center;}#sk-container-id-1 div.sk-container {/* jupyter's `normalize.less` sets `[hidden] { display: none; }` but bootstrap.min.css set `[hidden] { display: none !important; }` so we also need the `!important` here to be able to override the default hidden behavior on the sphinx rendered scikit-learn.org. See: https://github.com/scikit-learn/scikit-learn/issues/21755 */display: inline-block !important;position: relative;}#sk-container-id-1 div.sk-text-repr-fallback {display: none;}</style><div id=\"sk-container-id-1\" class=\"sk-top-container\"><div class=\"sk-text-repr-fallback\"><pre>KNeighborsClassifier(n_neighbors=20)</pre><b>In a Jupyter environment, please rerun this cell to show the HTML representation or trust the notebook. <br />On GitHub, the HTML representation is unable to render, please try loading this page with nbviewer.org.</b></div><div class=\"sk-container\" hidden><div class=\"sk-item\"><div class=\"sk-estimator sk-toggleable\"><input class=\"sk-toggleable__control sk-hidden--visually\" id=\"sk-estimator-id-1\" type=\"checkbox\" checked><label for=\"sk-estimator-id-1\" class=\"sk-toggleable__label sk-toggleable__label-arrow\">KNeighborsClassifier</label><div class=\"sk-toggleable__content\"><pre>KNeighborsClassifier(n_neighbors=20)</pre></div></div></div></div></div>"
            ]
          },
          "metadata": {},
          "execution_count": 25
        }
      ]
    },
    {
      "cell_type": "markdown",
      "source": [
        "###Escolhi o 4 pois, mesmo o 1 tendo menor erro, usar ele pode configurar em overfiting"
      ],
      "metadata": {
        "id": "ydrkJo21NOXj"
      }
    },
    {
      "cell_type": "code",
      "source": [
        "y_pred=knn.predict(X_train)\n",
        "y_pred"
      ],
      "metadata": {
        "id": "21z6bCKKBKBd"
      },
      "execution_count": null,
      "outputs": []
    },
    {
      "cell_type": "code",
      "source": [
        "train_accuracy=round(100*accuracy_score(y_train, y_pred),2)\n",
        "print(\"Metricas de classificação: \\n\",classification_report(y_train, y_pred))\n",
        "print(f'acuracia = {train_accuracy}%')"
      ],
      "metadata": {
        "colab": {
          "base_uri": "https://localhost:8080/"
        },
        "id": "nfqFS_UsBy5p",
        "outputId": "f21b2cc2-6614-45fd-a0c1-36b5e27e14eb"
      },
      "execution_count": null,
      "outputs": [
        {
          "output_type": "stream",
          "name": "stdout",
          "text": [
            "Metricas de classificação: \n",
            "               precision    recall  f1-score   support\n",
            "\n",
            "           0       0.94      0.93      0.93    227591\n",
            "           1       0.93      0.95      0.94    227313\n",
            "\n",
            "    accuracy                           0.94    454904\n",
            "   macro avg       0.94      0.94      0.94    454904\n",
            "weighted avg       0.94      0.94      0.94    454904\n",
            "\n",
            "acuracia = 93.53%\n"
          ]
        }
      ]
    },
    {
      "cell_type": "markdown",
      "source": [
        "#Random Forest"
      ],
      "metadata": {
        "id": "qNYvVebKnwNq"
      }
    },
    {
      "cell_type": "code",
      "source": [
        "rf = RandomForestClassifier()\n",
        "test_error_rate_rf = []\n",
        "\n",
        "for samples in range(500, 800, 100):\n",
        "    rf = RandomForestClassifier(n_estimators = samples) #incrementando hiper paramentro de numero de arvores\n",
        "    rf.fit(X_train, y_train)\n",
        "\n",
        "    # Fazer previsões nos dados de teste e calcular a taxa de erro\n",
        "    test_predictions = rf.predict(X_test)\n",
        "    test_error = 1 - accuracy_score(y_test, test_predictions)\n",
        "    test_error_rate_rf.append(test_error)\n"
      ],
      "metadata": {
        "id": "UZ-_t9Wtphkk"
      },
      "execution_count": null,
      "outputs": []
    },
    {
      "cell_type": "code",
      "source": [
        "test_error_rate_rf"
      ],
      "metadata": {
        "colab": {
          "base_uri": "https://localhost:8080/"
        },
        "id": "YgJMXmKpuL9s",
        "outputId": "c744e22c-0e90-4a1b-9282-59accb2e4ed3"
      },
      "execution_count": null,
      "outputs": [
        {
          "output_type": "execute_result",
          "data": {
            "text/plain": [
              "[0.00010551676837311508, 0.00010551676837311508, 0.00011430983240423576]"
            ]
          },
          "metadata": {},
          "execution_count": 37
        }
      ]
    },
    {
      "cell_type": "markdown",
      "source": [
        "###Execução com 100 a 700 arvores de 100 em 100\n",
        "[0.00011430983240423576,<br>\n",
        " 0.00011430983240423576,<br>\n",
        " 0.00011430983240423576,<br>\n",
        " 0.00010551676837311508,<br>\n",
        " 0.00010551676837311508,<br>\n",
        " 0.00010551676837311508,<br>\n",
        " 0.00011430983240423576]"
      ],
      "metadata": {
        "id": "16gdSpOIOCSv"
      }
    },
    {
      "cell_type": "markdown",
      "source": [
        "#Execução do melhor hiperparametro de numero de arvores para treinar o modelo"
      ],
      "metadata": {
        "id": "kYQ2TylcJJsa"
      }
    },
    {
      "cell_type": "code",
      "source": [
        "rf = RandomForestClassifier(n_estimators=400)\n",
        "rf.fit(X_train, y_train)\n",
        "test_predictions = rf.predict(X_test)\n",
        "accuracy_score(y_test, test_predictions)"
      ],
      "metadata": {
        "colab": {
          "base_uri": "https://localhost:8080/"
        },
        "id": "TbUYaCSqAesC",
        "outputId": "d24170ff-9dab-4890-bc47-19d5ac9e05ad"
      },
      "execution_count": null,
      "outputs": [
        {
          "output_type": "execute_result",
          "data": {
            "text/plain": [
              "0.9998944832316269"
            ]
          },
          "metadata": {},
          "execution_count": 13
        }
      ]
    },
    {
      "cell_type": "code",
      "source": [
        "confusion_matrix(y_test, test_predictions)"
      ],
      "metadata": {
        "colab": {
          "base_uri": "https://localhost:8080/"
        },
        "id": "1zt2RiDd7PHV",
        "outputId": "f59c568a-07cb-4646-a2e5-0b7ed9a55432"
      },
      "execution_count": null,
      "outputs": [
        {
          "output_type": "execute_result",
          "data": {
            "text/plain": [
              "array([[56712,    12],\n",
              "       [    0, 57002]])"
            ]
          },
          "metadata": {},
          "execution_count": 14
        }
      ]
    },
    {
      "cell_type": "markdown",
      "source": [
        "#Rede Neural"
      ],
      "metadata": {
        "id": "ZO7pVbdtDi3Q"
      }
    },
    {
      "cell_type": "code",
      "source": [
        "model = MLPClassifier(hidden_layer_sizes=(100, 100), random_state=0)\n",
        "model.fit(X_train, y_train)\n",
        "\n",
        "y_pred = model.predict(X_test)\n",
        "\n",
        "accuracy = accuracy_score(y_test, y_pred)\n",
        "print(\"Acurácia:\", accuracy)"
      ],
      "metadata": {
        "colab": {
          "base_uri": "https://localhost:8080/"
        },
        "id": "4pqTKnkHBzc7",
        "outputId": "3a09c0a8-2850-455b-fa91-db56308794dd"
      },
      "execution_count": null,
      "outputs": [
        {
          "output_type": "stream",
          "name": "stdout",
          "text": [
            "Acurácia: 0.979512160807555\n"
          ]
        }
      ]
    },
    {
      "cell_type": "markdown",
      "source": [
        "#Rede neural validação-cruzada com holdout"
      ],
      "metadata": {
        "id": "xmlUZte03i8Z"
      }
    },
    {
      "cell_type": "code",
      "source": [
        "num_camadas_ocultas = [1, 2, 3]\n",
        "num_neuronios_ocultos = [16, 32, 64]\n",
        "\n",
        "for camadas_ocultas in num_camadas_ocultas:\n",
        "    for neuronios_ocultos in num_neuronios_ocultos:\n",
        "        model = MLPClassifier(hidden_layer_sizes=(neuronios_ocultos,) * camadas_ocultas, random_state=0)\n",
        "\n",
        "        #validação cruzada com holdout\n",
        "        scores = cross_val_score(model, X_train, y_train, cv=10, scoring='accuracy')\n",
        "\n",
        "        print(f\"Número de camadas ocultas: {camadas_ocultas}, Neurônios em cada camada oculta: {neuronios_ocultos}\")\n",
        "        print(\"Acurácia média:\", np.mean(scores))\n",
        "        print(\"Desvio padrão da acurácia:\", np.std(scores))"
      ],
      "metadata": {
        "colab": {
          "base_uri": "https://localhost:8080/"
        },
        "id": "vZOTz96N3b2D",
        "outputId": "1e386201-1b5b-47bc-c0f2-be1ab58fb004"
      },
      "execution_count": null,
      "outputs": [
        {
          "output_type": "stream",
          "name": "stdout",
          "text": [
            "Número de camadas ocultas: 1, Neurônios em cada camada oculta: 16\n",
            "Acurácia média: 0.9709564776180741\n",
            "Desvio padrão da acurácia: 0.013950726096257846\n"
          ]
        },
        {
          "output_type": "stream",
          "name": "stderr",
          "text": [
            "/usr/local/lib/python3.10/dist-packages/sklearn/neural_network/_multilayer_perceptron.py:686: ConvergenceWarning: Stochastic Optimizer: Maximum iterations (200) reached and the optimization hasn't converged yet.\n",
            "  warnings.warn(\n"
          ]
        },
        {
          "output_type": "stream",
          "name": "stdout",
          "text": [
            "Número de camadas ocultas: 1, Neurônios em cada camada oculta: 32\n",
            "Acurácia média: 0.9731921084363983\n",
            "Desvio padrão da acurácia: 0.010113823599858969\n",
            "Número de camadas ocultas: 1, Neurônios em cada camada oculta: 64\n",
            "Acurácia média: 0.9519044881819246\n",
            "Desvio padrão da acurácia: 0.0813847524755924\n",
            "Número de camadas ocultas: 2, Neurônios em cada camada oculta: 16\n",
            "Acurácia média: 0.9422688327504977\n",
            "Desvio padrão da acurácia: 0.06643793010000643\n",
            "Número de camadas ocultas: 2, Neurônios em cada camada oculta: 32\n",
            "Acurácia média: 0.9731723322283307\n",
            "Desvio padrão da acurácia: 0.01370705909150308\n",
            "Número de camadas ocultas: 2, Neurônios em cada camada oculta: 64\n",
            "Acurácia média: 0.9757707069468868\n",
            "Desvio padrão da acurácia: 0.0052969042752696385\n",
            "Número de camadas ocultas: 3, Neurônios em cada camada oculta: 16\n",
            "Acurácia média: 0.8957597365409313\n",
            "Desvio padrão da acurácia: 0.1540836399715545\n",
            "Número de camadas ocultas: 3, Neurônios em cada camada oculta: 32\n",
            "Acurácia média: 0.8486702835308716\n",
            "Desvio padrão da acurácia: 0.18472282834195844\n",
            "Número de camadas ocultas: 3, Neurônios em cada camada oculta: 64\n",
            "Acurácia média: 0.5006418952593557\n",
            "Desvio padrão da acurácia: 0.0004000980657559104\n"
          ]
        }
      ]
    },
    {
      "cell_type": "code",
      "source": [
        "dados = [0.9519044881819246,\n",
        "         0.9422688327504977,\n",
        "         0.9731723322283307,\n",
        "         0.9757707069468868,\n",
        "         0.8957597365409313,\n",
        "         0.8486702835308716,\n",
        "         0.5006418952593557]\n",
        "\n",
        "df = pd.DataFrame(dados, columns=['Valores'])\n",
        "plt.plot(df['Valores'])\n",
        "plt.xticks(range(len(df)), df.index)\n",
        "plt.show()\n",
        "\n",
        "\n",
        "\n",
        "\n",
        "\n",
        "\n"
      ],
      "metadata": {
        "colab": {
          "base_uri": "https://localhost:8080/",
          "height": 430
        },
        "id": "Yy93N01ZmwKa",
        "outputId": "afe0c48c-c3d6-4e39-8610-72da924988ea"
      },
      "execution_count": 4,
      "outputs": [
        {
          "output_type": "display_data",
          "data": {
            "text/plain": [
              "<Figure size 640x480 with 1 Axes>"
            ],
            "image/png": "[encoded data removed]"
          },
          "metadata": {}
        }
      ]
    }
  ]
}