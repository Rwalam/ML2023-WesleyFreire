{
  "nbformat": 4,
  "nbformat_minor": 0,
  "metadata": {
    "colab": {
      "provenance": [],
      "mount_file_id": "1oiQoBr4a4HGCai2yL7cwCgRkpGcGgM41",
      "authorship_tag": "ABX9TyOjDfw9hN7X/zlWkW6MUc6d",
      "include_colab_link": true
    },
    "kernelspec": {
      "name": "python3",
      "display_name": "Python 3"
    },
    "language_info": {
      "name": "python"
    }
  },
  "cells": [
    {
      "cell_type": "markdown",
      "metadata": {
        "id": "view-in-github",
        "colab_type": "text"
      },
      "source": [
        "<a href=\"https://colab.research.google.com/github/Rwalam/ML2023-WesleyFreire/blob/main/at3_fashionMnistKNN.ipynb\" target=\"_parent\"><img src=\"https://colab.research.google.com/assets/colab-badge.svg\" alt=\"Open In Colab\"/></a>"
      ]
    },
    {
      "cell_type": "code",
      "source": [
        "import numpy as np\n",
        "import pandas as pd\n",
        "import matplotlib.pyplot as plt\n",
        "import seaborn as sns"
      ],
      "metadata": {
        "id": "hNk2PoxkizZP"
      },
      "execution_count": 17,
      "outputs": []
    },
    {
      "cell_type": "code",
      "execution_count": 6,
      "metadata": {
        "colab": {
          "base_uri": "https://localhost:8080/",
          "height": 299
        },
        "id": "AzLJH4WSexnV",
        "outputId": "d76311b9-1e22-4c22-9473-a9d86d737bd4"
      },
      "outputs": [
        {
          "output_type": "execute_result",
          "data": {
            "text/plain": [
              "   label  pixel1  pixel2  pixel3  pixel4  pixel5  pixel6  pixel7  pixel8  \\\n",
              "0      0       0       0       0       0       0       0       0       9   \n",
              "1      1       0       0       0       0       0       0       0       0   \n",
              "2      2       0       0       0       0       0       0      14      53   \n",
              "3      2       0       0       0       0       0       0       0       0   \n",
              "4      3       0       0       0       0       0       0       0       0   \n",
              "\n",
              "   pixel9  ...  pixel775  pixel776  pixel777  pixel778  pixel779  pixel780  \\\n",
              "0       8  ...       103        87        56         0         0         0   \n",
              "1       0  ...        34         0         0         0         0         0   \n",
              "2      99  ...         0         0         0         0        63        53   \n",
              "3       0  ...       137       126       140         0       133       224   \n",
              "4       0  ...         0         0         0         0         0         0   \n",
              "\n",
              "   pixel781  pixel782  pixel783  pixel784  \n",
              "0         0         0         0         0  \n",
              "1         0         0         0         0  \n",
              "2        31         0         0         0  \n",
              "3       222        56         0         0  \n",
              "4         0         0         0         0  \n",
              "\n",
              "[5 rows x 785 columns]"
            ],
            "text/html": [
              "\n",
              "  <div id=\"df-054809af-9ac3-4abe-b87c-467ff6bf8a79\">\n",
              "    <div class=\"colab-df-container\">\n",
              "      <div>\n",
              "<style scoped>\n",
              "    .dataframe tbody tr th:only-of-type {\n",
              "        vertical-align: middle;\n",
              "    }\n",
              "\n",
              "    .dataframe tbody tr th {\n",
              "        vertical-align: top;\n",
              "    }\n",
              "\n",
              "    .dataframe thead th {\n",
              "        text-align: right;\n",
              "    }\n",
              "</style>\n",
              "<table border=\"1\" class=\"dataframe\">\n",
              "  <thead>\n",
              "    <tr style=\"text-align: right;\">\n",
              "      <th></th>\n",
              "      <th>label</th>\n",
              "      <th>pixel1</th>\n",
              "      <th>pixel2</th>\n",
              "      <th>pixel3</th>\n",
              "      <th>pixel4</th>\n",
              "      <th>pixel5</th>\n",
              "      <th>pixel6</th>\n",
              "      <th>pixel7</th>\n",
              "      <th>pixel8</th>\n",
              "      <th>pixel9</th>\n",
              "      <th>...</th>\n",
              "      <th>pixel775</th>\n",
              "      <th>pixel776</th>\n",
              "      <th>pixel777</th>\n",
              "      <th>pixel778</th>\n",
              "      <th>pixel779</th>\n",
              "      <th>pixel780</th>\n",
              "      <th>pixel781</th>\n",
              "      <th>pixel782</th>\n",
              "      <th>pixel783</th>\n",
              "      <th>pixel784</th>\n",
              "    </tr>\n",
              "  </thead>\n",
              "  <tbody>\n",
              "    <tr>\n",
              "      <th>0</th>\n",
              "      <td>0</td>\n",
              "      <td>0</td>\n",
              "      <td>0</td>\n",
              "      <td>0</td>\n",
              "      <td>0</td>\n",
              "      <td>0</td>\n",
              "      <td>0</td>\n",
              "      <td>0</td>\n",
              "      <td>9</td>\n",
              "      <td>8</td>\n",
              "      <td>...</td>\n",
              "      <td>103</td>\n",
              "      <td>87</td>\n",
              "      <td>56</td>\n",
              "      <td>0</td>\n",
              "      <td>0</td>\n",
              "      <td>0</td>\n",
              "      <td>0</td>\n",
              "      <td>0</td>\n",
              "      <td>0</td>\n",
              "      <td>0</td>\n",
              "    </tr>\n",
              "    <tr>\n",
              "      <th>1</th>\n",
              "      <td>1</td>\n",
              "      <td>0</td>\n",
              "      <td>0</td>\n",
              "      <td>0</td>\n",
              "      <td>0</td>\n",
              "      <td>0</td>\n",
              "      <td>0</td>\n",
              "      <td>0</td>\n",
              "      <td>0</td>\n",
              "      <td>0</td>\n",
              "      <td>...</td>\n",
              "      <td>34</td>\n",
              "      <td>0</td>\n",
              "      <td>0</td>\n",
              "      <td>0</td>\n",
              "      <td>0</td>\n",
              "      <td>0</td>\n",
              "      <td>0</td>\n",
              "      <td>0</td>\n",
              "      <td>0</td>\n",
              "      <td>0</td>\n",
              "    </tr>\n",
              "    <tr>\n",
              "      <th>2</th>\n",
              "      <td>2</td>\n",
              "      <td>0</td>\n",
              "      <td>0</td>\n",
              "      <td>0</td>\n",
              "      <td>0</td>\n",
              "      <td>0</td>\n",
              "      <td>0</td>\n",
              "      <td>14</td>\n",
              "      <td>53</td>\n",
              "      <td>99</td>\n",
              "      <td>...</td>\n",
              "      <td>0</td>\n",
              "      <td>0</td>\n",
              "      <td>0</td>\n",
              "      <td>0</td>\n",
              "      <td>63</td>\n",
              "      <td>53</td>\n",
              "      <td>31</td>\n",
              "      <td>0</td>\n",
              "      <td>0</td>\n",
              "      <td>0</td>\n",
              "    </tr>\n",
              "    <tr>\n",
              "      <th>3</th>\n",
              "      <td>2</td>\n",
              "      <td>0</td>\n",
              "      <td>0</td>\n",
              "      <td>0</td>\n",
              "      <td>0</td>\n",
              "      <td>0</td>\n",
              "      <td>0</td>\n",
              "      <td>0</td>\n",
              "      <td>0</td>\n",
              "      <td>0</td>\n",
              "      <td>...</td>\n",
              "      <td>137</td>\n",
              "      <td>126</td>\n",
              "      <td>140</td>\n",
              "      <td>0</td>\n",
              "      <td>133</td>\n",
              "      <td>224</td>\n",
              "      <td>222</td>\n",
              "      <td>56</td>\n",
              "      <td>0</td>\n",
              "      <td>0</td>\n",
              "    </tr>\n",
              "    <tr>\n",
              "      <th>4</th>\n",
              "      <td>3</td>\n",
              "      <td>0</td>\n",
              "      <td>0</td>\n",
              "      <td>0</td>\n",
              "      <td>0</td>\n",
              "      <td>0</td>\n",
              "      <td>0</td>\n",
              "      <td>0</td>\n",
              "      <td>0</td>\n",
              "      <td>0</td>\n",
              "      <td>...</td>\n",
              "      <td>0</td>\n",
              "      <td>0</td>\n",
              "      <td>0</td>\n",
              "      <td>0</td>\n",
              "      <td>0</td>\n",
              "      <td>0</td>\n",
              "      <td>0</td>\n",
              "      <td>0</td>\n",
              "      <td>0</td>\n",
              "      <td>0</td>\n",
              "    </tr>\n",
              "  </tbody>\n",
              "</table>\n",
              "<p>5 rows × 785 columns</p>\n",
              "</div>\n",
              "      <button class=\"colab-df-convert\" onclick=\"convertToInteractive('df-054809af-9ac3-4abe-b87c-467ff6bf8a79')\"\n",
              "              title=\"Convert this dataframe to an interactive table.\"\n",
              "              style=\"display:none;\">\n",
              "        \n",
              "  <svg xmlns=\"http://www.w3.org/2000/svg\" height=\"24px\"viewBox=\"0 0 24 24\"\n",
              "       width=\"24px\">\n",
              "    <path d=\"M0 0h24v24H0V0z\" fill=\"none\"/>\n",
              "    <path d=\"M18.56 5.44l.94 2.06.94-2.06 2.06-.94-2.06-.94-.94-2.06-.94 2.06-2.06.94zm-11 1L8.5 8.5l.94-2.06 2.06-.94-2.06-.94L8.5 2.5l-.94 2.06-2.06.94zm10 10l.94 2.06.94-2.06 2.06-.94-2.06-.94-.94-2.06-.94 2.06-2.06.94z\"/><path d=\"M17.41 7.96l-1.37-1.37c-.4-.4-.92-.59-1.43-.59-.52 0-1.04.2-1.43.59L10.3 9.45l-7.72 7.72c-.78.78-.78 2.05 0 2.83L4 21.41c.39.39.9.59 1.41.59.51 0 1.02-.2 1.41-.59l7.78-7.78 2.81-2.81c.8-.78.8-2.07 0-2.86zM5.41 20L4 18.59l7.72-7.72 1.47 1.35L5.41 20z\"/>\n",
              "  </svg>\n",
              "      </button>\n",
              "      \n",
              "  <style>\n",
              "    .colab-df-container {\n",
              "      display:flex;\n",
              "      flex-wrap:wrap;\n",
              "      gap: 12px;\n",
              "    }\n",
              "\n",
              "    .colab-df-convert {\n",
              "      background-color: #E8F0FE;\n",
              "      border: none;\n",
              "      border-radius: 50%;\n",
              "      cursor: pointer;\n",
              "      display: none;\n",
              "      fill: #1967D2;\n",
              "      height: 32px;\n",
              "      padding: 0 0 0 0;\n",
              "      width: 32px;\n",
              "    }\n",
              "\n",
              "    .colab-df-convert:hover {\n",
              "      background-color: #E2EBFA;\n",
              "      box-shadow: 0px 1px 2px rgba(60, 64, 67, 0.3), 0px 1px 3px 1px rgba(60, 64, 67, 0.15);\n",
              "      fill: #174EA6;\n",
              "    }\n",
              "\n",
              "    [theme=dark] .colab-df-convert {\n",
              "      background-color: #3B4455;\n",
              "      fill: #D2E3FC;\n",
              "    }\n",
              "\n",
              "    [theme=dark] .colab-df-convert:hover {\n",
              "      background-color: #434B5C;\n",
              "      box-shadow: 0px 1px 3px 1px rgba(0, 0, 0, 0.15);\n",
              "      filter: drop-shadow(0px 1px 2px rgba(0, 0, 0, 0.3));\n",
              "      fill: #FFFFFF;\n",
              "    }\n",
              "  </style>\n",
              "\n",
              "      <script>\n",
              "        const buttonEl =\n",
              "          document.querySelector('#df-054809af-9ac3-4abe-b87c-467ff6bf8a79 button.colab-df-convert');\n",
              "        buttonEl.style.display =\n",
              "          google.colab.kernel.accessAllowed ? 'block' : 'none';\n",
              "\n",
              "        async function convertToInteractive(key) {\n",
              "          const element = document.querySelector('#df-054809af-9ac3-4abe-b87c-467ff6bf8a79');\n",
              "          const dataTable =\n",
              "            await google.colab.kernel.invokeFunction('convertToInteractive',\n",
              "                                                     [key], {});\n",
              "          if (!dataTable) return;\n",
              "\n",
              "          const docLinkHtml = 'Like what you see? Visit the ' +\n",
              "            '<a target=\"_blank\" href=https://colab.research.google.com/notebooks/data_table.ipynb>data table notebook</a>'\n",
              "            + ' to learn more about interactive tables.';\n",
              "          element.innerHTML = '';\n",
              "          dataTable['output_type'] = 'display_data';\n",
              "          await google.colab.output.renderOutput(dataTable, element);\n",
              "          const docLink = document.createElement('div');\n",
              "          docLink.innerHTML = docLinkHtml;\n",
              "          element.appendChild(docLink);\n",
              "        }\n",
              "      </script>\n",
              "    </div>\n",
              "  </div>\n",
              "  "
            ]
          },
          "metadata": {},
          "execution_count": 6
        }
      ],
      "source": [
        "df = pd.read_csv('/content/drive/MyDrive/Colab Notebooks/ML2023-1/at3 knn-fashionMnist/fashion-mnist_test.csv')\n",
        "df.head()"
      ]
    },
    {
      "cell_type": "code",
      "source": [
        "df.duplicated().sum()"
      ],
      "metadata": {
        "colab": {
          "base_uri": "https://localhost:8080/"
        },
        "id": "73djKwEnoCD2",
        "outputId": "7609d164-16f3-4307-bfd8-9c1e52966fe6"
      },
      "execution_count": 7,
      "outputs": [
        {
          "output_type": "execute_result",
          "data": {
            "text/plain": [
              "1"
            ]
          },
          "metadata": {},
          "execution_count": 7
        }
      ]
    },
    {
      "cell_type": "code",
      "source": [
        "from sklearn.pipeline import Pipeline\n",
        "from sklearn.preprocessing import MinMaxScaler\n",
        "from sklearn.model_selection import cross_validate\n",
        "from sklearn.neighbors import KNeighborsClassifier"
      ],
      "metadata": {
        "id": "rMX4NQsWo59r"
      },
      "execution_count": 12,
      "outputs": []
    },
    {
      "cell_type": "code",
      "source": [
        "X=df.drop('label',axis=1)\n",
        "y=df.label"
      ],
      "metadata": {
        "id": "aXDRiTnwoa8Y"
      },
      "execution_count": 8,
      "outputs": []
    },
    {
      "cell_type": "code",
      "source": [
        "xx=X[0:500]\n",
        "yy=y[0:500]"
      ],
      "metadata": {
        "id": "bGVxY0fEoe4N"
      },
      "execution_count": 9,
      "outputs": []
    },
    {
      "cell_type": "code",
      "source": [
        "normalize=MinMaxScaler()"
      ],
      "metadata": {
        "id": "2Z42-Ae3ov3w"
      },
      "execution_count": 13,
      "outputs": []
    },
    {
      "cell_type": "code",
      "source": [
        "test_error_rate=[]\n",
        "train_error_rate=[]\n",
        "for k in range(1,30):\n",
        "    # modelo knn\n",
        "    knn=KNeighborsClassifier(k)\n",
        "    operations=[('normalize',normalize),('knn',knn)]\n",
        "    # creating a pipeline\n",
        "    pipe=Pipeline(steps=operations)\n",
        "    # performing 5-fold cross validation using the pipeline and df\n",
        "    cross_dict=cross_validate(pipe,xx,yy,cv=5,scoring='accuracy', return_train_score=True)\n",
        "    # capturing train and test error rate for elbow graph\n",
        "    test_error_rate.append(cross_dict['test_score'].mean())\n",
        "    train_error_rate.append(cross_dict['train_score'].mean())"
      ],
      "metadata": {
        "id": "1sA51O46pTS5"
      },
      "execution_count": 14,
      "outputs": []
    },
    {
      "cell_type": "code",
      "source": [
        "test_error_rate"
      ],
      "metadata": {
        "colab": {
          "base_uri": "https://localhost:8080/"
        },
        "id": "BmxWNos_p1jE",
        "outputId": "7c347366-bae4-4e47-d377-1c2b8a3fa0ea"
      },
      "execution_count": 15,
      "outputs": [
        {
          "output_type": "execute_result",
          "data": {
            "text/plain": [
              "[0.73,\n",
              " 0.716,\n",
              " 0.7299999999999999,\n",
              " 0.742,\n",
              " 0.7300000000000001,\n",
              " 0.7300000000000001,\n",
              " 0.728,\n",
              " 0.732,\n",
              " 0.73,\n",
              " 0.72,\n",
              " 0.704,\n",
              " 0.712,\n",
              " 0.7040000000000001,\n",
              " 0.7060000000000001,\n",
              " 0.702,\n",
              " 0.71,\n",
              " 0.7060000000000001,\n",
              " 0.6940000000000001,\n",
              " 0.682,\n",
              " 0.7020000000000002,\n",
              " 0.692,\n",
              " 0.682,\n",
              " 0.6839999999999999,\n",
              " 0.692,\n",
              " 0.674,\n",
              " 0.668,\n",
              " 0.674,\n",
              " 0.6779999999999999,\n",
              " 0.682]"
            ]
          },
          "metadata": {},
          "execution_count": 15
        }
      ]
    },
    {
      "cell_type": "code",
      "source": [
        "train_error_rate=[1-acc for acc in train_error_rate]\n",
        "test_error_rate=[1-acc for acc in test_error_rate]"
      ],
      "metadata": {
        "id": "tXV2PUpcqW1u"
      },
      "execution_count": 16,
      "outputs": []
    },
    {
      "cell_type": "code",
      "source": [
        "plt.title('Elbow Graph')\n",
        "plt.xlabel('K')\n",
        "plt.ylabel('error_rate')\n",
        "sns.lineplot(x=range(1,30),y=test_error_rate, color='red')"
      ],
      "metadata": {
        "colab": {
          "base_uri": "https://localhost:8080/",
          "height": 490
        },
        "id": "6WvL2JpJqcgZ",
        "outputId": "738b2a4e-7078-4f46-b1e2-a7c6884ed620"
      },
      "execution_count": 18,
      "outputs": [
        {
          "output_type": "execute_result",
          "data": {
            "text/plain": [
              "<Axes: title={'center': 'Elbow Graph'}, xlabel='K', ylabel='error_rate'>"
            ]
          },
          "metadata": {},
          "execution_count": 18
        },
        {
          "output_type": "display_data",
          "data": {
            "text/plain": [
              "<Figure size 640x480 with 1 Axes>"
            ],
            "image/png": "[encoded data removed]"
          },
          "metadata": {}
        }
      ]
    },
    {
      "cell_type": "code",
      "source": [
        "knn=KNeighborsClassifier(n_neighbors=4)"
      ],
      "metadata": {
        "id": "9k4KQUEqrHfM"
      },
      "execution_count": 22,
      "outputs": []
    },
    {
      "cell_type": "code",
      "source": [
        "X_norm=normalize.fit_transform(xx)"
      ],
      "metadata": {
        "id": "EclV5rW8rK20"
      },
      "execution_count": 20,
      "outputs": []
    },
    {
      "cell_type": "code",
      "source": [
        "knn.fit(X_norm,yy)"
      ],
      "metadata": {
        "id": "1A4N56rWrOYr"
      },
      "execution_count": null,
      "outputs": []
    },
    {
      "cell_type": "code",
      "source": [
        "y_pred=knn.predict(X_norm)\n",
        "y_pred"
      ],
      "metadata": {
        "colab": {
          "base_uri": "https://localhost:8080/"
        },
        "id": "acQPjLE5r1mo",
        "outputId": "1547d0a1-8111-4db4-90a5-3fe92ff2f826"
      },
      "execution_count": 25,
      "outputs": [
        {
          "output_type": "execute_result",
          "data": {
            "text/plain": [
              "array([0, 1, 2, 2, 3, 2, 8, 6, 5, 0, 3, 6, 4, 6, 8, 5, 6, 3, 6, 2, 4, 4,\n",
              "       2, 1, 7, 7, 8, 2, 4, 1, 7, 7, 7, 8, 1, 0, 9, 8, 0, 3, 2, 0, 6, 6,\n",
              "       2, 0, 3, 3, 2, 3, 2, 4, 9, 3, 0, 9, 9, 4, 0, 3, 4, 5, 2, 6, 1, 1,\n",
              "       0, 9, 5, 2, 7, 3, 4, 0, 5, 7, 1, 6, 1, 3, 9, 2, 1, 6, 2, 8, 9, 4,\n",
              "       1, 6, 3, 4, 6, 6, 2, 0, 4, 7, 7, 3, 9, 3, 9, 0, 8, 2, 3, 2, 2, 7,\n",
              "       5, 7, 4, 4, 7, 5, 0, 2, 7, 3, 0, 7, 2, 4, 7, 0, 9, 5, 0, 3, 1, 7,\n",
              "       9, 4, 9, 6, 4, 4, 0, 4, 3, 3, 3, 2, 2, 6, 0, 0, 1, 3, 4, 3, 3, 1,\n",
              "       9, 3, 3, 3, 9, 5, 6, 7, 7, 3, 2, 2, 0, 2, 7, 2, 6, 8, 9, 0, 2, 4,\n",
              "       6, 8, 7, 9, 7, 1, 3, 9, 1, 7, 5, 6, 0, 7, 4, 9, 1, 6, 0, 0, 6, 6,\n",
              "       2, 9, 0, 4, 6, 5, 5, 8, 6, 2, 1, 9, 0, 0, 7, 1, 7, 5, 9, 0, 2, 8,\n",
              "       7, 7, 9, 3, 2, 4, 5, 9, 8, 1, 9, 7, 0, 2, 9, 7, 4, 0, 9, 2, 1, 5,\n",
              "       7, 7, 0, 2, 4, 5, 3, 3, 8, 1, 0, 2, 4, 8, 4, 9, 8, 3, 3, 6, 4, 2,\n",
              "       2, 9, 3, 9, 2, 8, 6, 6, 8, 2, 7, 2, 5, 5, 9, 7, 7, 2, 4, 8, 4, 8,\n",
              "       3, 1, 4, 4, 2, 1, 8, 1, 3, 0, 3, 1, 7, 0, 7, 2, 0, 7, 6, 2, 7, 4,\n",
              "       7, 7, 1, 0, 6, 0, 7, 8, 7, 0, 9, 2, 0, 2, 5, 0, 8, 5, 8, 7, 7, 4,\n",
              "       1, 2, 9, 7, 6, 0, 1, 6, 3, 8, 2, 5, 7, 0, 9, 2, 9, 8, 0, 2, 9, 6,\n",
              "       4, 3, 0, 6, 0, 8, 5, 9, 5, 2, 6, 0, 7, 1, 2, 7, 5, 5, 4, 2, 0, 2,\n",
              "       2, 6, 0, 7, 4, 9, 8, 3, 9, 7, 5, 1, 4, 2, 9, 5, 5, 0, 3, 4, 7, 4,\n",
              "       2, 6, 0, 5, 0, 2, 0, 2, 3, 5, 7, 0, 5, 0, 9, 0, 8, 6, 7, 7, 5, 2,\n",
              "       2, 4, 0, 4, 0, 9, 8, 4, 1, 0, 0, 6, 2, 9, 2, 0, 1, 6, 5, 8, 3, 8,\n",
              "       2, 7, 1, 2, 0, 7, 8, 7, 4, 5, 1, 0, 3, 0, 5, 8, 4, 7, 9, 5, 5, 8,\n",
              "       4, 0, 3, 2, 7, 1, 5, 2, 7, 5, 9, 6, 0, 7, 0, 6, 7, 6, 8, 6, 3, 7,\n",
              "       3, 1, 4, 9, 7, 0, 8, 2, 4, 8, 8, 1, 7, 1, 9, 3])"
            ]
          },
          "metadata": {},
          "execution_count": 25
        }
      ]
    },
    {
      "cell_type": "code",
      "source": [
        "from sklearn.metrics import accuracy_score"
      ],
      "metadata": {
        "id": "m_YlkPFfsesr"
      },
      "execution_count": 27,
      "outputs": []
    },
    {
      "cell_type": "code",
      "source": [
        "train_accuracy=round(100*accuracy_score(yy,y_pred),2)\n",
        "print(f'The train accuracy score is {train_accuracy}%')"
      ],
      "metadata": {
        "colab": {
          "base_uri": "https://localhost:8080/"
        },
        "id": "7H4uPEkdsXoE",
        "outputId": "f8f3cee5-9732-4809-99d0-b78601cfadfe"
      },
      "execution_count": 28,
      "outputs": [
        {
          "output_type": "stream",
          "name": "stdout",
          "text": [
            "The train accuracy score is 82.6%\n"
          ]
        }
      ]
    }
  ]
}